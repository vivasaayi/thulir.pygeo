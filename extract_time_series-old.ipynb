{
 "cells": [
  {
   "cell_type": "code",
   "execution_count": null,
   "metadata": {},
   "outputs": [],
   "source": [
    "!pip install gdal"
   ]
  },
  {
   "cell_type": "code",
   "execution_count": null,
   "metadata": {},
   "outputs": [],
   "source": [
    "from glob import glob\n",
    "import os\n",
    "import json\n",
    "import numpy as np\n",
    "from osgeo import gdal\n",
    "import scipy.misc as sm\n",
    "\n",
    "import matplotlib.pyplot as plt\n"
   ]
  },
  {
   "cell_type": "code",
   "execution_count": null,
   "metadata": {},
   "outputs": [],
   "source": [
    "def pad_year_day(year, day):\n",
    "    day_str = str(day) + \"\"\n",
    "    \n",
    "    if(len(day_str) == 1):\n",
    "        day_str = day_str.rjust(3, \"0\")   \n",
    "    elif(len(day_str) == 2):\n",
    "        day_str = day_str.rjust(3, \"0\")   \n",
    "\n",
    "    return year + day_str\n",
    "\n",
    "def get_bands_for_date(year, day):\n",
    "    day_str = pad_year_day(year, day)\n",
    "    dirs = os.listdir(\"./data/\" + day_str)\n",
    "\n",
    "    result = {}\n",
    "\n",
    "    for f in dirs:\n",
    "        if(f.endswith(\"qa.TIF\")):\n",
    "            continue\n",
    "        elif(not f.endswith(\".TIF\")):\n",
    "            continue\n",
    "        band = f.split(\"_\")[1].replace(\".TIF\", \"\")\n",
    "\n",
    "        result[band] = os.path.join(\"./data\", day_str,f)\n",
    "\n",
    "    return result\n"
   ]
  },
  {
   "cell_type": "code",
   "execution_count": null,
   "metadata": {},
   "outputs": [],
   "source": [
    "def extract_time_profile():\n",
    "    day_range = range(1,300)\n",
    "    year = \"2019\"\n",
    "\n",
    "    band_data = {\n",
    "    }\n",
    "\n",
    "    # profiles[100, 100, 10] = 121\n",
    "    # print(profiles)\n",
    "    # print(profiles[100, 100, 10])\n",
    "\n",
    "    #bands = [\"B01\", \"B02\", \"B03\", \"B04\", \"B05\", \"B06\", \"B06\", \"B07\"]\n",
    "    bands = [\"B02\"]\n",
    "\n",
    "    for b in bands:\n",
    "        print(\"Band:\", b)\n",
    "        b_data = []\n",
    "        for day in day_range:    \n",
    "            file_names = get_bands_for_date(year, day)\n",
    "            #print(file_names)\n",
    "            if(b not in file_names):\n",
    "                print(\"Band Name Not found\")\n",
    "                continue\n",
    "            \n",
    "            b_file_name = file_names[b]\n",
    "            print(b_file_name)\n",
    "\n",
    "            dataset = gdal.Open(b_file_name) \n",
    "            data = dataset.ReadAsArray().astype(np.float)\n",
    "            n_data = data[5:15, 1300:1310]\n",
    "            del dataset \n",
    "            #print(n_data)\n",
    "            b_data.append(n_data)\n",
    "\n",
    "        b_data_3d = np.dstack(b_data)\n",
    "\n",
    "        band_data[b] = b_data_3d\n",
    "\n",
    "    return band_data\n"
   ]
  },
  {
   "cell_type": "code",
   "execution_count": null,
   "metadata": {},
   "outputs": [],
   "source": [
    "band_data = extract_time_profile()"
   ]
  },
  {
   "cell_type": "code",
   "execution_count": null,
   "metadata": {},
   "outputs": [],
   "source": [
    "x_axis = []\n",
    "for i in range(0, 99):\n",
    "    x_axis.append(i)\n",
    "\n",
    "band_map = {\n",
    "    \"B01\": \"VIS-RED\",\n",
    "    \"B02\": \"NIR\",\n",
    "    \"B03\": \"VIS-BLUE\",\n",
    "    \"B04\": \"VIS-GREEN\",\n",
    "    \"B05\": \"NIR\",\n",
    "    \"B06\": \"SWIR\",\n",
    "    \"B07\": \"SWIR\"\n",
    "}\n",
    "    \n",
    "#band_names = [\"B01\", \"B02\", \"B03\", \"B04\", \"B05\", \"B06\", \"B07\"]\n",
    "band_names = [\"B02\"]\n",
    "\n",
    "\n",
    "# 5,6 & 1300,1301\n",
    "# 251,252 & 1567,1568\n",
    "for bn in band_names:\n",
    "    for x in range(4,6):\n",
    "        for y in range(4,6):    \n",
    "            \n",
    "            plt.imshow(band_data[bn][0])\n",
    "            \n",
    "            time_series = band_data[bn][x, y, 1:100]\n",
    "            \n",
    "#             for k in range(0, len(time_series)):\n",
    "#                 if(time_series[k] > 32700):\n",
    "#                     time_series[k] = 1500\n",
    "            \n",
    "            f = plt.figure() \n",
    "            f.set_figwidth(20) \n",
    "            f.set_figheight(8) \n",
    "            plt.plot(x_axis, time_series)\n",
    "            plt.xlabel('Day')\n",
    "            plt.ylabel('NBAR')\n",
    "\n",
    "            #plt.yscale('log')\n",
    "            plt.title('Band {} {} -TimeSeries for Location: {} {}'.format(bn, band_map[bn], x,y))\n",
    "            plt.show()"
   ]
  },
  {
   "cell_type": "code",
   "execution_count": null,
   "metadata": {},
   "outputs": [],
   "source": [
    "for x in range(0, 2400):\n",
    "    for y in range(0, 2400):    \n",
    "        data = band_data[\"B01\"][x, y, 1]\n",
    "        if(data < 32767):\n",
    "            print(x, y, data)\n"
   ]
  },
  {
   "cell_type": "code",
   "execution_count": null,
   "metadata": {},
   "outputs": [],
   "source": []
  }
 ],
 "metadata": {
  "kernelspec": {
   "display_name": "Python 3",
   "language": "python",
   "name": "python3"
  },
  "language_info": {
   "codemirror_mode": {
    "name": "ipython",
    "version": 3
   },
   "file_extension": ".py",
   "mimetype": "text/x-python",
   "name": "python",
   "nbconvert_exporter": "python",
   "pygments_lexer": "ipython3",
   "version": "3.6.10"
  }
 },
 "nbformat": 4,
 "nbformat_minor": 4
}
