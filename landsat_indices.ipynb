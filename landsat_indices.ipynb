{
 "cells": [
  {
   "cell_type": "code",
   "execution_count": null,
   "metadata": {},
   "outputs": [],
   "source": [
    "!pip install gdal\n",
    "\n",
    "# https://blog.finxter.com/matplotlib-imshow/#:~:text=Matplotlib%20Imshow%20Size%20As%20with%20every%20Figure%20in,size%20in%20inches%20or%20set%20the%20aspect%20ratio%3A\n",
    "# https://hyspeedblog.wordpress.com/2014/09/10/enhancing-the-landsat-8-quality-assessment-band-differentiating-water-using-ndwi/"
   ]
  },
  {
   "cell_type": "code",
   "execution_count": null,
   "metadata": {},
   "outputs": [],
   "source": [
    "from glob import glob\n",
    "import os\n",
    "import json\n",
    "import numpy as np\n",
    "from osgeo import gdal\n",
    "import scipy.misc as sm\n",
    "\n",
    "import matplotlib.pyplot as plt\n",
    "plt.figure(figsize=(8,8))\n"
   ]
  },
  {
   "cell_type": "code",
   "execution_count": null,
   "outputs": [],
   "source": [
    "def get_files(folder):\n",
    "    dirs = os.listdir(folder)\n",
    "\n",
    "    result = {}\n",
    "\n",
    "    for f in dirs:\n",
    "        # print(f)\n",
    "        if(\"T1_SR_B\" in f):\n",
    "            band = f.split(\"T1_SR_B\")[1].split(\".TIF\")[0]\n",
    "        elif(\"T1_ST\" in f):\n",
    "            name = f.split(\"T1_ST\")[1].split(\".TIF\")[0]\n",
    "            band = name.split(\"_\")[1]\n",
    "        else:\n",
    "            continue\n",
    "        \n",
    "        result[band] = os.path.join(folder,f)\n",
    "    return result\n",
    "        \n",
    "folders = [\n",
    "    #\"./landsat_data/LC08_L2SP_030031_20210927_20211001_02_T1\"\n",
    "    #\"./landsat_data/LC08_L2SP_143054_20211021_20211026_02_T1\"\n",
    "    \"./landsat_data/LC08_L2SP_143054_20210207_20210302_02_T1\"\n",
    "]\n",
    "\n",
    "for folder in folders: \n",
    "    print(folder)\n",
    "    files = get_files(folder)\n",
    "    print(\"-----Bands and Files----\")\n",
    "    print(files)\n",
    "    print(\"-----Bands and Files Complete----\")"
   ],
   "metadata": {
    "collapsed": false,
    "pycharm": {
     "name": "#%%\n"
    }
   }
  },
  {
   "cell_type": "code",
   "execution_count": null,
   "metadata": {},
   "outputs": [],
   "source": [
    "size = 1000\n",
    "\n",
    "#bands = [\"B01\", \"B02\", \"B03\", \"B04\", \"B05\", \"B06\", \"B06\", \"B07\"]\n",
    "bands = [\"1\", \"2\", \"3\", \"4\", \"5\", \"6\", \"6\", \"7\", \"B10\"]\n",
    "\n",
    "file_names = get_files(folders[0])\n",
    "band_data = {}\n",
    "\n",
    "for b in bands:\n",
    "    print(\"Band:\", b)\n",
    "    b_data = []\n",
    "\n",
    "    if(b not in file_names):\n",
    "        print(\"Band Name Not found\")\n",
    "        continue\n",
    "\n",
    "    b_file_name = file_names[b]\n",
    "    print(b_file_name)\n",
    "\n",
    "    dataset = gdal.Open(b_file_name) \n",
    "    data = dataset.ReadAsArray().astype(np.float)\n",
    "    n_data = data[2200:3200, 1500:2500]\n",
    "    del dataset \n",
    "    band_data[b] = n_data\n",
    "\n",
    "\n",
    "\n"
   ]
  },
  {
   "cell_type": "code",
   "execution_count": null,
   "metadata": {},
   "outputs": [],
   "source": [
    "plt.figure(figsize=(40,40))\n",
    "plt.imshow(band_data[\"B10\"])\n",
    "band_data[\"B10\"]"
   ]
  },
  {
   "cell_type": "code",
   "execution_count": null,
   "metadata": {},
   "outputs": [],
   "source": [
    "plt.figure(figsize=(40,40))\n",
    "plt.imshow(band_data[\"2\"])"
   ]
  },
  {
   "cell_type": "code",
   "execution_count": null,
   "metadata": {},
   "outputs": [],
   "source": [
    "plt.figure(figsize=(40,40))\n",
    "plt.imshow(band_data[\"3\"])"
   ]
  },
  {
   "cell_type": "code",
   "execution_count": null,
   "metadata": {},
   "outputs": [],
   "source": [
    "plt.figure(figsize=(40,40))\n",
    "plt.imshow(band_data[\"4\"])"
   ]
  },
  {
   "cell_type": "code",
   "execution_count": null,
   "metadata": {},
   "outputs": [],
   "source": [
    "plt.figure(figsize=(40,40))\n",
    "plt.imshow\\\n",
    "\n",
    "    (band_data[\"5\"])"
   ]
  },
  {
   "cell_type": "code",
   "execution_count": null,
   "metadata": {},
   "outputs": [],
   "source": [
    "plt.figure(figsize=(40,40))\n",
    "plt.imshow(band_data[\"6\"])"
   ]
  },
  {
   "cell_type": "code",
   "execution_count": null,
   "metadata": {},
   "outputs": [],
   "source": [
    "plt.figure(figsize=(40,40))\n",
    "plt.imshow(band_data[\"7\"])"
   ]
  },
  {
   "cell_type": "code",
   "execution_count": null,
   "metadata": {},
   "outputs": [],
   "source": [
    "import numpy as np\n",
    "\n",
    "rgb = np.zeros((size, size))\n",
    "grey_norm = plt.Normalize(vmin=0, vmax=256)"
   ]
  },
  {
   "cell_type": "code",
   "execution_count": null,
   "metadata": {},
   "outputs": [],
   "source": [
    "plt.figure(figsize=(40,40))\n",
    "\n",
    "\n",
    "b2 = band_data[\"2\"]\n",
    "\n",
    "\n",
    "for row in range(0, size):\n",
    "    for col in range(0, size):\n",
    "        b2_val = b2[row][col]\n",
    "        val = b2_val / 256\n",
    "        rgb[row][col] = val\n",
    "\n",
    "\n",
    "print(rgb)\n",
    "plt.figure(figsize=(40,40))\n",
    "plt.imshow(rgb, cmap='gray', norm=grey_norm)\n",
    "plt.show() "
   ]
  },
  {
   "cell_type": "code",
   "execution_count": null,
   "metadata": {},
   "outputs": [],
   "source": [
    "\n",
    "plt.figure(figsize=(40,40))\n",
    "norm = plt.Normalize(vmin=0, vmax=1)\n",
    "\n",
    "\n",
    "\n",
    "b2 = band_data[\"2\"]\n",
    "b3 = band_data[\"3\"]\n",
    "b4 = band_data[\"4\"]\n",
    "\n",
    "\n",
    "for row in range(0, size):\n",
    "    for col in range(0, size):\n",
    "        b2_val = b2[row][col]\n",
    "        b3_val = b3[row][col]\n",
    "        b4_val = b4[row][col]\n",
    "        val = ((b2_val + b3_val + b4_val)/3)/256\n",
    "        rgb[row][col] = val\n",
    "\n",
    "\n"
   ]
  },
  {
   "cell_type": "code",
   "execution_count": null,
   "metadata": {},
   "outputs": [],
   "source": [
    "print(rgb)\n",
    "plt.figure(figsize=(40,40))\n",
    "plt.imshow(rgb, cmap='gray')\n",
    "plt.show() "
   ]
  },
  {
   "cell_type": "code",
   "execution_count": null,
   "metadata": {},
   "outputs": [],
   "source": [
    "\n",
    "plt.figure(figsize=(40,40))\n",
    "norm = plt.Normalize(vmin=0, vmax=1)\n",
    "\n",
    "\n",
    "b1 = band_data[\"1\"]\n",
    "b2 = band_data[\"2\"]\n",
    "\n",
    "b3 = band_data[\"3\"]\n",
    "b4 = band_data[\"4\"]\n",
    "\n",
    "b5 = band_data[\"5\"]\n",
    "b6 = band_data[\"6\"]\n",
    "b7 = band_data[\"7\"]\n",
    "\n",
    "\n",
    "\n",
    "for row in range(0, size):\n",
    "    for col in range(0, size):\n",
    "        b5_val = b5[row][col]\n",
    "        b6_val = b6[row][col]\n",
    "        ndwi = (b5_val - b6_val)/(b5_val + b6_val)\n",
    "        if(ndwi) > 0.0:\n",
    "            rgb[row][col] = ndwi        \n",
    "        else:\n",
    "            rgb[row][col] = 0 \n",
    "        rgb[row][col] = ndwi\n",
    "\n",
    "plt.figure(figsize=(40,40))\n",
    "plt.imshow(rgb)\n",
    "plt.show()\n",
    "            \n",
    "\n",
    "for row in range(0, size):\n",
    "    for col in range(0, size):\n",
    "        b3_val = b3[row][col]\n",
    "        b6_val = b6[row][col]\n",
    "        mndwi = (b3_val - b6_val)/(b3_val + b6_val)\n",
    "        if(mndwi) > -0.1:\n",
    "            rgb[row][col] = 1        \n",
    "        else:\n",
    "            rgb[row][col] = 0    \n",
    "        rgb[row][col] = mndwi\n",
    "\n",
    "            \n",
    "np.savetxt(\"rgb.txt\", rgb)\n",
    "            \n",
    "#plt.imshow(rgb, cmap='gray')\n",
    "print(rgb)\n",
    "plt.figure(figsize=(40,40))\n",
    "plt.imshow(rgb, cmap='gray', norm=norm)\n",
    "plt.show()\n",
    "\n",
    "plt.figure(figsize=(40,40))\n",
    "plt.imshow(rgb, norm=norm)\n",
    "plt.show()\n",
    "\n",
    "plt.figure(figsize=(40,40))\n",
    "plt.imshow(rgb)\n",
    "plt.show()\n",
    "\n",
    "print(rgb)\n",
    "\n",
    "\n",
    "for row in range(0, size):\n",
    "    for col in range(0, size):\n",
    "        b1_val = b1[row][col]\n",
    "        b2_val = b2[row][col]\n",
    "        rgb[row][col] = (b2_val - b1_val)\n",
    "\n",
    "            \n",
    "#plt.imshow(rgb, cmap='gray')\n",
    "plt.figure(figsize=(40,40))\n",
    "plt.imshow(rgb)\n",
    "plt.show()\n",
    "\n",
    "print(rgb)\n"
   ]
  },
  {
   "cell_type": "code",
   "execution_count": null,
   "metadata": {},
   "outputs": [],
   "source": [
    "\n",
    "for row in range(0, size):\n",
    "    for col in range(0, size):\n",
    "        b6_val = b6[row][col]\n",
    "        b7_val = b7[row][col]\n",
    "        \n",
    "        b3_val = b3[row][col]\n",
    "        \n",
    "        mndwi = (b3_val - b6_val)/(b3_val + b6_val) * 1000\n",
    "        wetness = ((b6_val -  b7_val)/(b7_val +  b6_val)) * 1000\n",
    "        \n",
    "        val = (mndwi * wetness)\n",
    "#         rgb[row][col] = val\n",
    "        if(val > 0):\n",
    "            rgb[row][col] = val\n",
    "        else: \n",
    "            rgb[row][col] = -20000\n",
    "\n",
    "            \n",
    "#plt.imshow(rgb, cmap='gray')\n",
    "plt.figure(figsize=(40,40))\n",
    "plt.imshow(rgb, cmap='gray', norm=norm)\n",
    "plt.show()\n",
    "\n",
    "print(rgb)"
   ]
  },
  {
   "cell_type": "code",
   "execution_count": null,
   "metadata": {},
   "outputs": [],
   "source": [
    "\n",
    "for row in range(0, size):\n",
    "    for col in range(0, size):\n",
    "        b4_val = b4[row][col]\n",
    "        b5_val = b5[row][col]\n",
    "        \n",
    "        ndvi = (b5_val - b4_val)/(b5_val + b4_val)\n",
    "        rgb[row][col] = ndvi\n",
    "        \n",
    "#         val = (mndwi * wetness)\n",
    "#         rgb[row][col] = val\n",
    "#         if(val > 0):\n",
    "#             rgb[row][col] = val\n",
    "#         else: \n",
    "#             rgb[row][col] = -20000\n",
    "\n",
    "            \n",
    "#plt.imshow(rgb, cmap='gray')\n",
    "plt.figure(figsize=(40,40))\n",
    "plt.imshow(rgb, norm=norm)\n",
    "plt.show()\n",
    "\n",
    "print(rgb)"
   ]
  },
  {
   "cell_type": "code",
   "execution_count": null,
   "metadata": {},
   "outputs": [],
   "source": []
  },
  {
   "cell_type": "code",
   "execution_count": null,
   "outputs": [],
   "source": [
    "print(\"Hello\")"
   ],
   "metadata": {
    "collapsed": false,
    "pycharm": {
     "name": "#%%\n"
    }
   }
  },
  {
   "cell_type": "code",
   "execution_count": null,
   "outputs": [],
   "source": [],
   "metadata": {
    "collapsed": false,
    "pycharm": {
     "name": "#%%\n"
    }
   }
  }
 ],
 "metadata": {
  "kernelspec": {
   "display_name": "Python 3",
   "language": "python",
   "name": "python3"
  },
  "language_info": {
   "codemirror_mode": {
    "name": "ipython",
    "version": 3
   },
   "file_extension": ".py",
   "mimetype": "text/x-python",
   "name": "python",
   "nbconvert_exporter": "python",
   "pygments_lexer": "ipython3",
   "version": "3.6.10"
  }
 },
 "nbformat": 4,
 "nbformat_minor": 4
}