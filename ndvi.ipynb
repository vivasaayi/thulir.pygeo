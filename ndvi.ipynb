{
 "cells": [
  {
   "cell_type": "code",
   "execution_count": null,
   "metadata": {},
   "outputs": [],
   "source": [
    "!pip install gdal\n",
    "!pip install scikit-image\n",
    "\n",
    "# https://blog.finxter.com/matplotlib-imshow/#:~:text=Matplotlib%20Imshow%20Size%20As%20with%20every%20Figure%20in,size%20in%20inches%20or%20set%20the%20aspect%20ratio%3A\n",
    "# https://hyspeedblog.wordpress.com/2014/09/10/enhancing-the-landsat-8-quality-assessment-band-differentiating-water-using-ndwi/"
   ]
  },
  {
   "cell_type": "code",
   "execution_count": null,
   "metadata": {},
   "outputs": [],
   "source": [
    "from glob import glob\n",
    "import os\n",
    "import json\n",
    "import numpy as np\n",
    "from osgeo import gdal\n",
    "import scipy.misc as sm\n",
    "from skimage import exposure\n",
    "\n",
    "import matplotlib.pyplot as plt\n",
    "plt.figure(figsize=(8,8))\n"
   ]
  },
  {
   "cell_type": "code",
   "execution_count": null,
   "metadata": {},
   "outputs": [],
   "source": [
    "def get_files(folder):\n",
    "    dirs = os.listdir(folder)\n",
    "\n",
    "    result = {}\n",
    "\n",
    "    for f in dirs:\n",
    "        # print(f)\n",
    "        if(\"T1_SR_B\" in f):\n",
    "            band = f.split(\"T1_SR_B\")[1].split(\".TIF\")[0]\n",
    "        elif(\"T1_ST\" in f):\n",
    "            name = f.split(\"T1_ST\")[1].split(\".TIF\")[0]\n",
    "            band = name.split(\"_\")[1]\n",
    "        else:\n",
    "            continue\n",
    "        \n",
    "        result[band] = os.path.join(folder,f)\n",
    "    return result\n",
    "        \n",
    "folders = [\n",
    "    #\"./landsat_data/LC08_L2SP_030031_20210927_20211001_02_T1\"\n",
    "    #\"./landsat_data/LC08_L2SP_143054_20211021_20211026_02_T1\"\n",
    "    \"./landsat_data/LC08_L2SP_143054_20210207_20210302_02_T1\"\n",
    "]\n",
    "\n",
    "for folder in folders: \n",
    "    print(folder)\n",
    "    files = get_files(folder)\n",
    "    print(\"-----Bands and Files----\")\n",
    "    print(files)\n",
    "    print(\"-----Bands and Files Complete----\")"
   ]
  },
  {
   "cell_type": "code",
   "execution_count": null,
   "metadata": {},
   "outputs": [],
   "source": [
    "size = 700\n",
    "\n",
    "#bands = [\"B01\", \"B02\", \"B03\", \"B04\", \"B05\", \"B06\", \"B06\", \"B07\"]\n",
    "bands = [\"1\", \"2\", \"3\", \"4\", \"5\", \"6\", \"6\", \"7\", \"B10\"]\n",
    "\n",
    "file_names = get_files(folders[0])\n",
    "band_data = {}\n",
    "\n",
    "for b in bands:\n",
    "    print(\"Band:\", b)\n",
    "    b_data = []\n",
    "\n",
    "    if(b not in file_names):\n",
    "        print(\"Band Name Not found\")\n",
    "        continue\n",
    "\n",
    "    b_file_name = file_names[b]\n",
    "    print(b_file_name)\n",
    "\n",
    "    dataset = gdal.Open(b_file_name) \n",
    "    data = dataset.ReadAsArray().astype(np.float)\n",
    "    n_data = data[2500:3200, 1900:2600]\n",
    "    del dataset \n",
    "    band_data[b] = n_data\n",
    "\n",
    "\n",
    "\n"
   ]
  },
  {
   "cell_type": "code",
   "execution_count": null,
   "metadata": {},
   "outputs": [],
   "source": [
    "np.savetxt(\"b10.txt\", band_data[\"B10\"])\n",
    "\n",
    "plt.figure(figsize=(40,40))\n",
    "plt.imshow(band_data[\"B10\"])\n",
    "b10 = band_data[\"B10\"]\n",
    "\n",
    "min = 1000000\n",
    "max = 0\n",
    "\n",
    "for row in range(0, len(b10)):\n",
    "    for col in range(0, len(b10)):\n",
    "        val = b10[row][col]\n",
    "        if(val < min):\n",
    "            min = val\n",
    "        if(val > max):\n",
    "            max = val\n",
    "            \n",
    "print(min, max)"
   ]
  },
  {
   "cell_type": "code",
   "execution_count": null,
   "metadata": {},
   "outputs": [],
   "source": [
    "band = \"4\"\n",
    "np.savetxt(\"b10.txt\", band_data[band])\n",
    "\n",
    "plt.figure(figsize=(40,40))\n",
    "plt.imshow(band_data[band])\n",
    "b10 = band_data[band]\n",
    "\n",
    "min = 1000000\n",
    "max = 0\n",
    "\n",
    "for row in range(0, len(b10)):\n",
    "    for col in range(0, len(b10)):\n",
    "        val = b10[row][col]\n",
    "        if(val < min):\n",
    "            min = val\n",
    "        if(val > max):\n",
    "            max = val\n",
    "            \n",
    "print(min, max)"
   ]
  },
  {
   "cell_type": "code",
   "execution_count": null,
   "metadata": {},
   "outputs": [],
   "source": [
    "band = \"4\"\n",
    "np.savetxt(\"b10.txt\", band_data[band])\n",
    "\n",
    "import numpy as np\n",
    "\n",
    "rgb = np.zeros((size, size))\n",
    "\n",
    "b = band_data[band]\n",
    "\n",
    "min = 1000000\n",
    "max = 0\n",
    "\n",
    "for row in range(0, len(b10)):\n",
    "    for col in range(0, len(b10)):\n",
    "        val = b[row][col]\n",
    "        if(val < min):\n",
    "            min = val\n",
    "        if(val > max):\n",
    "            max = val\n",
    "        rgb[row][col] = val\n",
    "\n",
    "plt.figure(figsize=(8,8))\n",
    "plt.imshow(b, cmap=\"gray\")\n",
    "        \n",
    "#rgb = exposure.rescale_intensity(rgb, out_range=(7273, 43636))\n",
    "#rgb = exposure.rescale_intensity(rgb, out_range=(0, 256))\n",
    "            \n",
    "print(min, max)\n",
    "plt.figure(figsize=(8,8))\n",
    "plt.imshow(rgb, cmap=\"gray\")\n",
    "\n",
    "\n",
    "min = 1000000\n",
    "max = 0\n",
    "\n",
    "# bands = [\"2\", \"3\", \"4\"]\n",
    "\n",
    "b1 = exposure.rescale_intensity(band_data[\"2\"], out_range=(7273, 43636))\n",
    "b1 = exposure.rescale_intensity(b1, in_range=(7273, 20000), out_range=(0, 1))\n",
    "\n",
    "b2 = exposure.rescale_intensity(band_data[\"3\"], out_range=(7273, 43636))\n",
    "b2 = exposure.rescale_intensity(b2, in_range=(7273, 20000),  out_range=(0, 1))\n",
    "\n",
    "b3 = exposure.rescale_intensity(band_data[\"4\"], out_range=(7273, 43636))\n",
    "b3 = exposure.rescale_intensity(b3, in_range=(7273, 20000),  out_range=(0, 1))\n",
    "\n",
    "\n",
    "plt.figure(figsize=(8,8))\n",
    "plt.imshow(b1, cmap=\"gray\")\n",
    "\n",
    "plt.figure(figsize=(8,8))\n",
    "plt.imshow(b2, cmap=\"gray\")\n",
    "\n",
    "plt.figure(figsize=(8,8))\n",
    "plt.imshow(b3, cmap=\"gray\")\n",
    "\n",
    "\n",
    "for row in range(0, len(b10)):\n",
    "    for col in range(0, len(b10)):\n",
    "        v1 = b1[row][col]\n",
    "        v2 = b2[row][col]\n",
    "        v3 = b3[row][col]\n",
    "        sum = (v1 + v2 + v3)/3;\n",
    "        rgb[row][col] = sum\n",
    "        \n",
    "plt.figure(figsize=(8,8))\n",
    "plt.imshow(rgb, cmap=\"gray\")"
   ]
  },
  {
   "cell_type": "code",
   "execution_count": null,
   "metadata": {},
   "outputs": [],
   "source": [
    "stacked = np.dstack((b3,b2,b1))\n",
    "plt.figure(figsize=(40,40))\n",
    "plt.imshow(stacked)\n",
    "print(stacked)"
   ]
  },
  {
   "cell_type": "code",
   "execution_count": null,
   "metadata": {},
   "outputs": [],
   "source": [
    "plt.hist(band_data[\"1\"])"
   ]
  },
  {
   "cell_type": "code",
   "execution_count": null,
   "metadata": {},
   "outputs": [],
   "source": [
    "plt.hist(band_data[\"2\"])"
   ]
  },
  {
   "cell_type": "code",
   "execution_count": null,
   "metadata": {},
   "outputs": [],
   "source": [
    "plt.hist(band_data[\"3\"])"
   ]
  },
  {
   "cell_type": "code",
   "execution_count": null,
   "metadata": {},
   "outputs": [],
   "source": [
    "plt.hist(b3)"
   ]
  },
  {
   "cell_type": "code",
   "execution_count": null,
   "metadata": {},
   "outputs": [],
   "source": [
    "plt.hist(b2)"
   ]
  },
  {
   "cell_type": "code",
   "execution_count": null,
   "metadata": {},
   "outputs": [],
   "source": []
  }
 ],
 "metadata": {
  "kernelspec": {
   "display_name": "Python 3",
   "language": "python",
   "name": "python3"
  },
  "language_info": {
   "codemirror_mode": {
    "name": "ipython",
    "version": 3
   },
   "file_extension": ".py",
   "mimetype": "text/x-python",
   "name": "python",
   "nbconvert_exporter": "python",
   "pygments_lexer": "ipython3",
   "version": "3.6.10"
  }
 },
 "nbformat": 4,
 "nbformat_minor": 4
}
